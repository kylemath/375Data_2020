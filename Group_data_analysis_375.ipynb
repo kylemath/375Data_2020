{
  "nbformat": 4,
  "nbformat_minor": 0,
  "metadata": {
    "colab": {
      "name": "Group data analysis 375",
      "provenance": [],
      "private_outputs": true,
      "collapsed_sections": [],
      "authorship_tag": "ABX9TyPvz1FHeqPw24CbZpTZFN2x",
      "include_colab_link": true
    },
    "kernelspec": {
      "name": "python3",
      "display_name": "Python 3"
    }
  },
  "cells": [
    {
      "cell_type": "markdown",
      "metadata": {
        "id": "view-in-github",
        "colab_type": "text"
      },
      "source": [
        "<a href=\"https://colab.research.google.com/github/kylemath/375Data_2020/blob/master/Group_data_analysis_375.ipynb\" target=\"_parent\"><img src=\"https://colab.research.google.com/assets/colab-badge.svg\" alt=\"Open In Colab\"/></a>"
      ]
    },
    {
      "cell_type": "code",
      "metadata": {
        "id": "n0ojkqhUqF9k",
        "colab_type": "code",
        "colab": {}
      },
      "source": [
        "!git clone https://github.com/kylemath/375Data_2020.git\n",
        "!ls\n"
      ],
      "execution_count": 0,
      "outputs": []
    },
    {
      "cell_type": "code",
      "metadata": {
        "id": "EUq0RjO93o2g",
        "colab_type": "code",
        "colab": {}
      },
      "source": [
        "# Import code libraries we will use\n",
        "import numpy as np   #for math \n",
        "import pandas as pd  # for data\n",
        "import matplotlib.pyplot as plt #for plotting\n",
        "%matplotlib inline \n",
        "#so plots stay in this page\n"
      ],
      "execution_count": 0,
      "outputs": []
    },
    {
      "cell_type": "code",
      "metadata": {
        "id": "_TH1ay7M3Zw_",
        "colab_type": "code",
        "colab": {}
      },
      "source": [
        "# Prepare some variables\n",
        "conditions = [ #list of condition names of each file\n",
        "\t'ClosedFrontal',\n",
        "\t'OpenFrontal',\n",
        "\t'ClosedTemporal',\n",
        "\t'OpenTemporal'\n",
        "]\n",
        "\n",
        "condition_mean = {}; # place to save means for each condition\n",
        "condition_std = {};\n",
        "freqs = list(range(30)) # create an array of the frequencies from 1 to 30"
      ],
      "execution_count": 0,
      "outputs": []
    },
    {
      "cell_type": "code",
      "metadata": {
        "id": "Yl6gTUvH3fs1",
        "colab_type": "code",
        "colab": {}
      },
      "source": [
        "for condition in conditions: # For each condition\n",
        "\tdf = pd.read_csv('375Data_2020/' + condition + '.csv') #read in the data file for that condition\n",
        "\tcondition_mean[condition] = df.mean(); #average over participants for that condition and save\t\t\t\t\t\t\n",
        "\ty = condition_mean[condition][1:]\n",
        "\tplt.plot(freqs, y ) #plot data for that condition\n",
        "\n",
        "plt.xlabel('Frequency (Hz)') #axis labels\n",
        "plt.ylabel('Power ($\\u03BCV^2$)')\n",
        "plt.legend(conditions) #legend with condition names\n",
        "plt.show() #show the plot"
      ],
      "execution_count": 0,
      "outputs": []
    },
    {
      "cell_type": "code",
      "metadata": {
        "id": "oNd_PNEx4RX6",
        "colab_type": "code",
        "colab": {}
      },
      "source": [
        "for condition in conditions: # For each condition\n",
        "\tdf = pd.read_csv('375Data_2020/' + condition + '.csv') #read in the data file for that condition\n",
        "\tcondition_mean[condition] = df.mean(); #average over participants for that condition and save\t\t\t\t\t\t\n",
        "\tcondition_std[condition] = df.std() / np.sqrt(76); #standard deviation over participants\n",
        "\ty = condition_mean[condition][1:]\n",
        "\terr = condition_std[condition][1:]\n",
        "\tplt.plot(freqs, y ) #plot data for that condition\n",
        "\tplt.fill_between(freqs, y-err, y+err )\n",
        "\n",
        "plt.xlabel('Frequency (Hz)') #axis labels\n",
        "plt.ylabel('Power ($\\u03BCV^2$)')\n",
        "plt.legend(conditions) #legend with condition names\n",
        "plt.show() #show the plot"
      ],
      "execution_count": 0,
      "outputs": []
    },
    {
      "cell_type": "code",
      "metadata": {
        "id": "xtN6UpcL4kyZ",
        "colab_type": "code",
        "colab": {}
      },
      "source": [
        "# find mean over each subject to remove between subject differences\n",
        "freqs = list(range(29))\n",
        "for condition in conditions: # For each condition\n",
        "\tdf = pd.read_csv('375Data_2020/' + condition + '.csv') #read in the data file for that condition\n",
        "\tdf = df.drop(['Lab ID Number'], axis=1)\n",
        "\tsub_mean = df.mean(axis=1)\n",
        "\tdf = df - np.tile(sub_mean, (30, 1)).transpose()\n",
        "\tcondition_mean[condition] = df.mean(); #average over participants for that condition and save\t\t\t\t\t\t\n",
        "\tcondition_std[condition] = df.std() / np.sqrt(76); #standard deviation over participants\n",
        "\ty = condition_mean[condition][1:]\n",
        "\terr = condition_std[condition][1:]\n",
        "\tplt.plot(freqs, y ) #plot data for that condition\n",
        "\tplt.fill_between(freqs, y-err, y+err )\n",
        "\n",
        "plt.xlabel('Frequency (Hz)') #axis labels\n",
        "plt.ylabel('Power ($\\u03BCV^2$)')\n",
        "plt.legend(conditions) #legend with condition names\n",
        "plt.show() #show the plot"
      ],
      "execution_count": 0,
      "outputs": []
    }
  ]
}